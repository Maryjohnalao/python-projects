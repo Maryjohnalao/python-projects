{
 "cells": [
  {
   "cell_type": "markdown",
   "id": "611bab40",
   "metadata": {},
   "source": [
    "Guess the number game"
   ]
  },
  {
   "cell_type": "markdown",
   "id": "17fa1a9c",
   "metadata": {},
   "source": [
    "#Write a program that allows a user to guess anumber the computer has stored in memory.\n",
    "#The user should be allowed 5 trials to guess correctly. Dont forget to let the user know how many trials the user has.\n",
    "#if the guess is close to the guess, the code should inform the user, if the guess is far away, the code should let the user know,\n",
    "#if the guess is correct, the code should congratulate the user and break"
   ]
  },
  {
   "cell_type": "code",
   "execution_count": 24,
   "id": "2f873cb2",
   "metadata": {},
   "outputs": [
    {
     "name": "stdout",
     "output_type": "stream",
     "text": [
      "you have to 5 trials\n",
      "guess the number 7\n",
      "The guess is far away!\n",
      "guess the number 8\n",
      "The guess is far away!\n",
      "guess the number 9\n",
      "The guess is far away!\n",
      "guess the number 10\n",
      "Try again\n",
      "guess the number 19\n",
      "The guess is far away!\n"
     ]
    }
   ],
   "source": [
    "#Write a program that allows a user to guess anumber the computer has stored in memory.\n",
    "#The user should be allowed 5 trials to guess correctly. Dont forget to let the user know how many trials the user has.\n",
    "#if the guess is close to the guess, the code should inform the user, if the guess is far away, the code should let the user know,\n",
    "#if the guess is correct, the code should congratulate the user and break\n",
    "import random\n",
    "print(\"you have to 5 trials\")\n",
    "number_of_trials=5\n",
    "guess_number=random.randint(1,20)\n",
    "for Trials in range(number_of_trials):\n",
    "  user_input = int(input(\"guess the number \"))\n",
    "  if (user_input == guess_number - 2) or (user_input == guess_number + 2):\n",
    "    print(\"The guess is close\")\n",
    "  elif (user_input >= guess_number + 4) or (user_input <= guess_number - 4):\n",
    "    print(\"The guess is far away!\")\n",
    "  elif user_input == guess_number:\n",
    "     print(\"congratulations!\")\n",
    "     break\n",
    "  else:\n",
    "    print('Try again')"
   ]
  },
  {
   "cell_type": "markdown",
   "id": "8ad9d114",
   "metadata": {},
   "source": [
    "#write a code that generates a random password and store it in a file\n",
    "#your code should generate a password of at least 8 characters from a contribution of characters and store the password\n",
    "#in a text file\n",
    "#hint: use the choice methos from the random module"
   ]
  },
  {
   "cell_type": "code",
   "execution_count": 12,
   "id": "2e26697f",
   "metadata": {},
   "outputs": [
    {
     "name": "stdout",
     "output_type": "stream",
     "text": [
      "enter a password length :9\n"
     ]
    }
   ],
   "source": [
    "#write a code that generates a random password and store it in a file\n",
    "#your code should generate a password of at least 8 characters from a contribution of characters and \n",
    "#store the password\n",
    "#in a text file\n",
    "#hint: use the choice methos from the random module\n",
    "import random\n",
    "possible_char = \"QWERTYUIOPASDFGHJKLZXCVBNM,1234567890,qwertyuioplasdfghjkzxcvbnm,!@#$%^&*():?><_-+=()/>.<\"\n",
    "password =''\n",
    "password_length = int(input(\"enter a password length :\"))\n",
    "i=1\n",
    "while (i <= password_length):\n",
    "    password= password + random.choice(possible_char)\n",
    "    i += 1\n",
    "with open('Passwords.txt', \"w\") as my_file:\n",
    "    my_file.write(password)"
   ]
  },
  {
   "cell_type": "markdown",
   "id": "9a106c31",
   "metadata": {},
   "source": [
    "#Write a program that allows a user to guess anumber the computer has stored in memory.\n",
    "#The user should be allowed 5 trials to guess correctly. Dont forget to let the user know how many trials the user has.\n",
    "#if the guess is close to the guess, the code should inform the user, if the guess is far away, the code should let the user know,\n",
    "#if the guess is correct, the code should congratulate the user and break"
   ]
  },
  {
   "cell_type": "code",
   "execution_count": 6,
   "id": "44c4d510",
   "metadata": {},
   "outputs": [
    {
     "name": "stdout",
     "output_type": "stream",
     "text": [
      "You have 5 trials to guess my number correct\n",
      "enter a guess:6\n",
      "Your guess is far away, try again\n",
      "enter a guess:8\n",
      "Your guess is far away, try again\n",
      "enter a guess:9\n",
      "Your guess is far away, try again\n",
      "enter a guess:10\n",
      "Your guess is far away, try again\n",
      "enter a guess:19\n",
      "Your guess is far away, try again\n"
     ]
    }
   ],
   "source": [
    "import random\n",
    "computer_guess = random.randint(1,10)\n",
    "trials = 5\n",
    "\n",
    "print('You have 5 trials to guess my number correct')\n",
    "try:\n",
    "    for i in range(trials):\n",
    "        user_input = int(input(\"enter a guess:\"))\n",
    "        if((user_input == computer_guess -2) or (user_input == computer_guess +2)):\n",
    "            print(\"your guess is far away, try again\")\n",
    "        elif (abs(user_input - computer_guess)<=3)or abs((user_input - computer_guess)>=3):\n",
    "            print(\"Your guess is far away, try again\")\n",
    "        elif (user_input == computer_guess):\n",
    "            print(\"congratulations! You win\")\n",
    "            break\n",
    "        else:\n",
    "            print('Try again')\n",
    "except:\n",
    "    print('You did not enter an integer')\n",
    "            "
   ]
  },
  {
   "cell_type": "code",
   "execution_count": 5,
   "id": "23f2980f",
   "metadata": {},
   "outputs": [],
   "source": []
  },
  {
   "cell_type": "code",
   "execution_count": null,
   "id": "243f1a2e",
   "metadata": {},
   "outputs": [],
   "source": []
  }
 ],
 "metadata": {
  "kernelspec": {
   "display_name": "Python 3 (ipykernel)",
   "language": "python",
   "name": "python3"
  },
  "language_info": {
   "codemirror_mode": {
    "name": "ipython",
    "version": 3
   },
   "file_extension": ".py",
   "mimetype": "text/x-python",
   "name": "python",
   "nbconvert_exporter": "python",
   "pygments_lexer": "ipython3",
   "version": "3.9.7"
  }
 },
 "nbformat": 4,
 "nbformat_minor": 5
}
